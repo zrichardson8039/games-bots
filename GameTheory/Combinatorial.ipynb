{
 "cells": [
  {
   "cell_type": "markdown",
   "metadata": {},
   "source": [
    "# Combinatorial Game Theory"
   ]
  },
  {
   "cell_type": "markdown",
   "metadata": {},
   "source": [
    "## Types of Games"
   ]
  },
  {
   "cell_type": "markdown",
   "metadata": {},
   "source": [
    "### Impartial Games"
   ]
  },
  {
   "cell_type": "markdown",
   "metadata": {},
   "source": [
    "All possible moves from any position of the game are the **same** for both players.\n",
    "\n",
    "**Example:** Game of Nim"
   ]
  },
  {
   "cell_type": "markdown",
   "metadata": {},
   "source": [
    "### Partisan Games"
   ]
  },
  {
   "cell_type": "markdown",
   "metadata": {},
   "source": [
    "Moves for players are **different**.\n",
    "\n",
    "**Example:** Chess"
   ]
  },
  {
   "cell_type": "markdown",
   "metadata": {},
   "source": [
    "## Game of Nim"
   ]
  },
  {
   "cell_type": "markdown",
   "metadata": {},
   "source": [
    "### Rules"
   ]
  },
  {
   "cell_type": "markdown",
   "metadata": {},
   "source": [
    "Given a number of piles in which each heap contains some numbers of stones, a player may remove one or more stones from any pile on their turn. The player who cannot remove any more stones loses."
   ]
  },
  {
   "cell_type": "markdown",
   "metadata": {},
   "source": [
    "### Optimal Strategy"
   ]
  },
  {
   "cell_type": "markdown",
   "metadata": {},
   "source": [
    "The game depends on two factors\n",
    "\n",
    "1. The player who starts first\n",
    "2. The initial configuration of the heap"
   ]
  },
  {
   "cell_type": "markdown",
   "metadata": {},
   "source": [
    "#### XOR"
   ]
  },
  {
   "cell_type": "markdown",
   "metadata": {},
   "source": [
    "The bitwise *exclusive or* comparison of two numbers.\n",
    "\n",
    "**Example:** 2 XOR 4 = 01 XOR 10 = 11 = 6\n",
    "\n",
    "*Important XOR Properties*\n",
    "\n",
    "- If the XOR sum of N numbers is already zero, then it is not possible to make the XOR sum zero by reducing a single number.\n",
    "- If the XOR sum of N numbers is non-zero, then there is at least one way to reduce a single number to achieve an XOR sum of zero."
   ]
  },
  {
   "cell_type": "markdown",
   "metadata": {},
   "source": [
    "**Nim-Sum**"
   ]
  },
  {
   "cell_type": "markdown",
   "metadata": {},
   "source": [
    "The cumulative XOR value of the number of stones in each heap at any point of the game."
   ]
  },
  {
   "cell_type": "markdown",
   "metadata": {},
   "source": [
    "**Note**"
   ]
  },
  {
   "cell_type": "markdown",
   "metadata": {},
   "source": [
    "*If both players play optimally, then the player starting first guaranteed to win if the Nim-Sum at the start is non-zero. Otherwise, if the Nim-Sum is zero, then the player starting second is guaranteed to win.*"
   ]
  },
  {
   "cell_type": "markdown",
   "metadata": {},
   "source": [
    "#### Case 1: Zero [Initial] Nim Sum"
   ]
  },
  {
   "cell_type": "markdown",
   "metadata": {},
   "source": [
    "The first player will make a move such that the Nim-Sum becomes nonzero. Therefore, the second player will move in such a way so as to return the game to a zero Nim-Sum. The first player will be the first to reach a non-movable state and lose."
   ]
  },
  {
   "cell_type": "markdown",
   "metadata": {},
   "source": [
    "#### Case 2: Non-Zero [Initial] Nim-Sum"
   ]
  },
  {
   "cell_type": "markdown",
   "metadata": {},
   "source": [
    "This is essentially reversing the roles of *Case 1*."
   ]
  },
  {
   "cell_type": "markdown",
   "metadata": {},
   "source": [
    "## Grundy Numbers (Nimbers)"
   ]
  },
  {
   "cell_type": "markdown",
   "metadata": {},
   "source": [
    "Any **impartial** game may be defined in terms of a **Nimber**. They determine how any such game can be solved and are calculated via the **Sprague-Grundy Theorem**.\n",
    "\n",
    "The Nimber is equal to 0 for a game that is lost immediately by the first player. Otherwise, it is equal to **Mex**."
   ]
  },
  {
   "cell_type": "markdown",
   "metadata": {},
   "source": [
    "### Minimum Excludant (Mex)"
   ]
  },
  {
   "cell_type": "markdown",
   "metadata": {},
   "source": [
    "The minimum excludant (Mex) of a set of numbers is the smallest non-negative number not present in the set.\n",
    "\n",
    "**Example:** *mex({0, 2, 4, 6}) = 1*"
   ]
  },
  {
   "cell_type": "markdown",
   "metadata": {},
   "source": [
    "### Practice"
   ]
  },
  {
   "cell_type": "markdown",
   "metadata": {},
   "source": [
    "The game starts with a pile of N stones and the player to move may take any positive number of stones.\n",
    "\n",
    "**Case N=0:** *Grundy(0) = 0*\n",
    "\n",
    "**Case N=1:** *Grundy(1) = Mex(0) = 1*\n",
    "\n",
    "**Case N=2:** *Grundy(2) = Mex(0, 1) = 2*\n",
    "\n",
    "**Case N=n:** *Grundy(n) = Mex(0, 1, 2, ...n-1) = n*"
   ]
  },
  {
   "cell_type": "code",
   "execution_count": 2,
   "metadata": {},
   "outputs": [],
   "source": [
    "def calculateMex(Set):\n",
    "    Mex = 0\n",
    "    while(Mex in Set):\n",
    "        Mex += 1\n",
    "    return (Mex)\n",
    "def calculateGrundy(n):\n",
    "    if(n==0):\n",
    "        return (0)\n",
    "    Set = set()\n",
    "    for i in range(n):\n",
    "        Set.add(calculateGrundy(i))\n",
    "    return (calculateMex(Set))"
   ]
  },
  {
   "cell_type": "code",
   "execution_count": 3,
   "metadata": {},
   "outputs": [
    {
     "data": {
      "text/plain": [
       "10"
      ]
     },
     "execution_count": 3,
     "metadata": {},
     "output_type": "execute_result"
    }
   ],
   "source": [
    "calculateGrundy(10)"
   ]
  },
  {
   "cell_type": "markdown",
   "metadata": {},
   "source": [
    "## Sprague-Grundy Theorem"
   ]
  },
  {
   "cell_type": "markdown",
   "metadata": {},
   "source": [
    "In a composite game with N > 1 sub-games and two perfect players, the first player is guaranteed to lose if the XOR of initial Nimbers in each sub-game evaluate to zero. Otherwise, the first player is guaranteed to win."
   ]
  },
  {
   "cell_type": "markdown",
   "metadata": {},
   "source": [
    "### Application"
   ]
  },
  {
   "cell_type": "markdown",
   "metadata": {},
   "source": [
    "This theorem may be used to solve any impartial game as follows:\n",
    "\n",
    "1. Break the composite game into sub-games\n",
    "2. Calculate the Nimber for each sub-game\n",
    "3. Evaluate the XOR sum of all Nimbers\n",
    "4. If XOR sum is non-zero, then the First Player wins. Otherwise, the First Player loses."
   ]
  },
  {
   "cell_type": "markdown",
   "metadata": {},
   "source": [
    "### Nim-Sum Solution"
   ]
  },
  {
   "cell_type": "markdown",
   "metadata": {},
   "source": [
    "Suppose we start with three heaps containing 1, 2, and 3 stones, respectively. A player may take as many stones as they wish from one of the heaps. The winner is the last player to take a stone.\n",
    "\n",
    "Assuming perfect players, who wins the game?"
   ]
  },
  {
   "cell_type": "markdown",
   "metadata": {},
   "source": [
    "#### Step 1\n",
    "\n",
    "Consider each heap of stones as a sub-game"
   ]
  },
  {
   "cell_type": "markdown",
   "metadata": {},
   "source": [
    "#### Step 2\n",
    "\n",
    "Calculate the Nimber for each heap\n",
    "\n",
    "```\n",
    "Grundy(3) = 3\n",
    "Grundy(4) = 4\n",
    "Grundy(5) = 5\n",
    "```"
   ]
  },
  {
   "cell_type": "markdown",
   "metadata": {},
   "source": [
    "#### Step 3\n",
    "\n",
    "Evaluate the XOR sum of all Nimbers\n",
    "\n",
    "```\n",
    "3 XOR 4 XOR 5 = 011 XOR 100 XOR 101 = 010 = 2\n",
    "```"
   ]
  },
  {
   "cell_type": "markdown",
   "metadata": {},
   "source": [
    "#### Step 4\n",
    "\n",
    "The First Player wins the game!"
   ]
  }
 ],
 "metadata": {
  "kernelspec": {
   "display_name": "Python 3.9.1 64-bit ('anaconda3': virtualenv)",
   "language": "python",
   "name": "python39164bitanaconda3virtualenv6f3838206694463c9fb7be3177c382ae"
  },
  "language_info": {
   "codemirror_mode": {
    "name": "ipython",
    "version": 3
   },
   "file_extension": ".py",
   "mimetype": "text/x-python",
   "name": "python",
   "nbconvert_exporter": "python",
   "pygments_lexer": "ipython3",
   "version": "3.9.7"
  }
 },
 "nbformat": 4,
 "nbformat_minor": 4
}
