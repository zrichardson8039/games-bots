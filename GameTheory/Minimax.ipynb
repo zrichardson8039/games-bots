{
 "cells": [
  {
   "cell_type": "markdown",
   "metadata": {},
   "source": [
    "# Minimax Algorithm"
   ]
  },
  {
   "cell_type": "markdown",
   "metadata": {},
   "source": [
    "Minimax is a kind of **backtracking** algorithm that is used in decision making and game theory to find the optimal move for a player, assuming that your opponent also plays optimally.\n",
    "\n",
    "In minimax, the two players are called **maximizer** and **minimizer**. The former aims for the highest score and latter for the lowest score.\n",
    "\n",
    "Every board state has a value associated with it, which are calculated by some game-specific heuristic."
   ]
  },
  {
   "cell_type": "code",
   "execution_count": 1,
   "metadata": {},
   "outputs": [],
   "source": [
    "import math\n",
    "\n",
    "def minimax(cur_depth, node_index, max_turn, scores, target_depth):\n",
    "    if(cur_depth == target_depth):\n",
    "        return scores[node_index]\n",
    "    if(max_turn):\n",
    "        left = minimax(cur_depth + 1, node_index * 2, False, scores, target_depth)\n",
    "        right = minimax(cur_depth + 1, node_index * 2 + 1, False, scores, target_depth)\n",
    "        return max(left, right)\n",
    "    else:\n",
    "        left = minimax(cur_depth + 1, node_index * 2, True, scores, target_depth)\n",
    "        right = minimax(cur_depth + 1, node_index * 2 + 1, True, scores, target_depth)\n",
    "        return min(left, right)"
   ]
  },
  {
   "cell_type": "code",
   "execution_count": 2,
   "metadata": {},
   "outputs": [
    {
     "name": "stdout",
     "output_type": "stream",
     "text": [
      "The optimal value is: 12\n"
     ]
    }
   ],
   "source": [
    "scores = [3, 5, 2, 9, 12, 5, 23, 23]\n",
    " \n",
    "treeDepth = math.log(len(scores), 2)\n",
    " \n",
    "print(\"The optimal value is: \", end = \"\")\n",
    "print(minimax(0, 0, True, scores, treeDepth))"
   ]
  },
  {
   "cell_type": "markdown",
   "metadata": {},
   "source": [
    "## Tic-Tac-Toe"
   ]
  },
  {
   "cell_type": "markdown",
   "metadata": {},
   "source": [
    "### Evaluation Function"
   ]
  },
  {
   "cell_type": "markdown",
   "metadata": {},
   "source": [
    "Assign the following point values to board states:\n",
    "\n",
    "**Win:** +10\n",
    "\n",
    "**Lose:** -10\n",
    "\n",
    "**Draw / No Winner:** 0"
   ]
  },
  {
   "cell_type": "markdown",
   "metadata": {},
   "source": [
    "### Optimal Moves"
   ]
  },
  {
   "cell_type": "markdown",
   "metadata": {},
   "source": [
    "To make our AI smarter by being more efficient, we can adjust the board evaluation values by the number of moves to reach them. We will subtract the depths from maximizer nodes and add them to minimizer nodes.\n",
    "\n",
    "**Example:** Player can win in 2 moves or 4 moves. Player will evaluate the former as 8 (+10 - 2) and latter as 6 (+10 - 4)"
   ]
  },
  {
   "cell_type": "markdown",
   "metadata": {},
   "source": [
    "## Implementation"
   ]
  },
  {
   "cell_type": "markdown",
   "metadata": {},
   "source": [
    "### Players"
   ]
  },
  {
   "cell_type": "code",
   "execution_count": 3,
   "metadata": {},
   "outputs": [],
   "source": [
    "player, opponent = 'x', 'o'"
   ]
  },
  {
   "cell_type": "markdown",
   "metadata": {},
   "source": [
    "### Remaining Moves"
   ]
  },
  {
   "cell_type": "code",
   "execution_count": 4,
   "metadata": {},
   "outputs": [],
   "source": [
    "def isMovesLeft(board):\n",
    "    for i in range(3):\n",
    "        for j in range(3):\n",
    "            if (board[i][j] == '_'):\n",
    "                return True\n",
    "    return False"
   ]
  },
  {
   "cell_type": "markdown",
   "metadata": {},
   "source": [
    "### Evaluation Function"
   ]
  },
  {
   "cell_type": "code",
   "execution_count": 5,
   "metadata": {},
   "outputs": [],
   "source": [
    "def evaluate(b):\n",
    "    for row in range(0, 3):\n",
    "        if b[row][0] == b[row][1] and b[row][1] == b[row][2]:\n",
    "            if b[row][0] == 'x':\n",
    "                return 10\n",
    "            elif b[row][0] == 'o':\n",
    "                return -10\n",
    "\n",
    "    for col in range(0, 3):\n",
    "        if b[0][col] == b[1][col] and b[1][col] == b[2][col]:\n",
    "            if b[0][col]=='x':\n",
    "                return 10\n",
    "            elif b[0][col] == 'o':\n",
    "                return -10\n",
    "    \n",
    "    if b[0][0] == b[1][1] and b[1][1] == b[2][2]:\n",
    "        if b[0][0] == 'x':\n",
    "            return 10\n",
    "        elif b[0][0] == 'o':\n",
    "            return -10\n",
    "    if b[0][2] == b[1][1] and b[1][1] == b[2][0]:\n",
    "        if b[0][2] == 'x':\n",
    "            return 10\n",
    "        elif b[0][2] == 'o':\n",
    "            return -10\n",
    "\n",
    "    return 0"
   ]
  },
  {
   "cell_type": "markdown",
   "metadata": {},
   "source": [
    "### Minimax"
   ]
  },
  {
   "cell_type": "code",
   "execution_count": 11,
   "metadata": {},
   "outputs": [],
   "source": [
    "def minimax(board, depth, isMax):\n",
    "    score = evaluate(board)\n",
    "    if (score == 10 or score == -10):\n",
    "        return score\n",
    "    \n",
    "    if (isMovesLeft(board) == False):\n",
    "        return 0\n",
    "    \n",
    "    if (isMax):    \n",
    "        best = -1000\n",
    "        for i in range(3):        \n",
    "            for j in range(3):\n",
    "                if (board[i][j]=='_'):\n",
    "                    board[i][j] = player\n",
    "                    best = max( best, minimax(board,depth + 1, not isMax) )\n",
    "                    board[i][j] = '_'\n",
    "        return best\n",
    "    \n",
    "    else:\n",
    "        best = 1000\n",
    "        for i in range(3):        \n",
    "            for j in range(3):\n",
    "                if (board[i][j] == '_'):\n",
    "                    board[i][j] = opponent\n",
    "                    best = min(best, minimax(board, depth + 1, not isMax))\n",
    "                    board[i][j] = '_'\n",
    "        return best"
   ]
  },
  {
   "cell_type": "markdown",
   "metadata": {},
   "source": [
    "### Find Best Move"
   ]
  },
  {
   "cell_type": "code",
   "execution_count": 12,
   "metadata": {},
   "outputs": [],
   "source": [
    "def findBestMove(board) :\n",
    "    bestVal = -1000\n",
    "    bestMove = (-1, -1)\n",
    "    \n",
    "    for i in range(3):    \n",
    "        for j in range(3):\n",
    "            if (board[i][j] == '_'):\n",
    "                board[i][j] = player\n",
    "                moveVal = minimax(board, 0, False)\n",
    "                board[i][j] = '_'\n",
    "                if (moveVal > bestVal):               \n",
    "                    bestMove = (i, j)\n",
    "                    bestVal = moveVal\n",
    "\n",
    "    print(\"The value of the best Move is:\", bestVal)\n",
    "    print()\n",
    "    return bestMove"
   ]
  },
  {
   "cell_type": "markdown",
   "metadata": {},
   "source": [
    "### Driver Code"
   ]
  },
  {
   "cell_type": "code",
   "execution_count": 27,
   "metadata": {},
   "outputs": [
    {
     "name": "stdout",
     "output_type": "stream",
     "text": [
      "The value of the best Move is: 0\n",
      "\n",
      "The Optimal Move is: [2, 1]\n"
     ]
    }
   ],
   "source": [
    "board = [\n",
    "    [ 'x', 'x', 'o' ],\n",
    "    [ 'o', 'o', 'x' ],\n",
    "    [ 'x', '_', '_' ]\n",
    "]\n",
    " \n",
    "bestMove = findBestMove(board)\n",
    " \n",
    "print(\"The Optimal Move is: [{}, {}]\".format(bestMove[0], bestMove[1]))"
   ]
  },
  {
   "cell_type": "markdown",
   "metadata": {},
   "source": [
    "## Alpha-Beta Pruning"
   ]
  },
  {
   "cell_type": "markdown",
   "metadata": {},
   "source": [
    "Alpha-Beta pruning is not a new algorithm, but an optimization technique for minimax. This allows us to search faster and deeper in the game tree.It cuts off branches of the search tree because a better move is already known. The parameters, alpha and beta, are passed into the minimax function."
   ]
  },
  {
   "cell_type": "markdown",
   "metadata": {},
   "source": [
    "**Alpha** is the best value the **maximizer** knows at or above the current level.\n",
    "\n",
    "**Beta** is the best value the **minimizer** knows at or above the current level."
   ]
  },
  {
   "cell_type": "code",
   "execution_count": 9,
   "metadata": {},
   "outputs": [
    {
     "name": "stdout",
     "output_type": "stream",
     "text": [
      "The optimal value is : 5\n"
     ]
    }
   ],
   "source": [
    "MAX, MIN = 1000, -1000\n",
    "\n",
    "def minimax(depth, nodeIndex, maximizingPlayer, values, alpha, beta):\n",
    "    \n",
    "    if depth == 3:\n",
    "        return values[nodeIndex]\n",
    " \n",
    "    if maximizingPlayer:\n",
    "      \n",
    "        best = MIN\n",
    "        for i in range(0, 2):\n",
    "            val = minimax(depth + 1, nodeIndex * 2 + i, False, values, alpha, beta)\n",
    "            best = max(best, val)\n",
    "            alpha = max(alpha, best)\n",
    "            \n",
    "            if beta <= alpha:\n",
    "                break\n",
    "          \n",
    "        return best\n",
    "      \n",
    "    else:\n",
    "        best = MAX\n",
    "        for i in range(0, 2):\n",
    "          \n",
    "            val = minimax(depth + 1, nodeIndex * 2 + i, True, values, alpha, beta)\n",
    "            best = min(best, val)\n",
    "            beta = min(beta, best)\n",
    "            \n",
    "            if beta <= alpha:\n",
    "                break\n",
    "          \n",
    "        return best\n",
    "    \n",
    "if __name__ == \"__main__\":\n",
    "  \n",
    "    values = [3, 5, 6, 9, 1, 2, 0, -1] \n",
    "    print(\"The optimal value is :\", minimax(0, 0, True, values, MIN, MAX))"
   ]
  }
 ],
 "metadata": {
  "kernelspec": {
   "display_name": "Python 3.9.1 64-bit ('anaconda3': virtualenv)",
   "language": "python",
   "name": "python39164bitanaconda3virtualenv6f3838206694463c9fb7be3177c382ae"
  },
  "language_info": {
   "codemirror_mode": {
    "name": "ipython",
    "version": 3
   },
   "file_extension": ".py",
   "mimetype": "text/x-python",
   "name": "python",
   "nbconvert_exporter": "python",
   "pygments_lexer": "ipython3",
   "version": "3.9.7"
  }
 },
 "nbformat": 4,
 "nbformat_minor": 4
}
