{
 "cells": [
  {
   "cell_type": "code",
   "execution_count": 67,
   "metadata": {},
   "outputs": [],
   "source": [
    "from cltk.data.fetch import FetchCorpus"
   ]
  },
  {
   "cell_type": "code",
   "execution_count": 1,
   "metadata": {},
   "outputs": [],
   "source": [
    "import socketio\n",
    "sio = socketio.Client()"
   ]
  },
  {
   "cell_type": "code",
   "execution_count": null,
   "metadata": {},
   "outputs": [],
   "source": [
    "@sio.event\n",
    "def connect():\n",
    "    print(\"I'm connected!\")\n",
    "\n",
    "@sio.event\n",
    "def connect_error(data):\n",
    "    print(\"The connection failed!\")\n",
    "\n",
    "@sio.event\n",
    "def disconnect():\n",
    "    print(\"I'm disconnected!\")\n",
    "    \n",
    "@sio.event\n",
    "def move(data):\n",
    "    print('I received a message!')\n",
    "\n",
    "@sio.on('moved')\n",
    "def on_move(board):\n",
    "    print(board)"
   ]
  },
  {
   "cell_type": "code",
   "execution_count": null,
   "metadata": {},
   "outputs": [],
   "source": [
    "sio.connect('https://zachs-ai-games.herokuapp.com/')"
   ]
  },
  {
   "cell_type": "code",
   "execution_count": null,
   "metadata": {},
   "outputs": [],
   "source": [
    "sio.emit('move', ['X', None, None, None, None, None, None, None, None])"
   ]
  },
  {
   "cell_type": "code",
   "execution_count": null,
   "metadata": {},
   "outputs": [],
   "source": [
    "sio.disconnect()"
   ]
  },
  {
   "cell_type": "markdown",
   "metadata": {},
   "source": [
    "## Evaluation Function"
   ]
  },
  {
   "cell_type": "code",
   "execution_count": 2,
   "metadata": {},
   "outputs": [],
   "source": [
    "player, opponent = 'X', 'O'"
   ]
  },
  {
   "cell_type": "code",
   "execution_count": 3,
   "metadata": {},
   "outputs": [],
   "source": [
    "def evaluate(board):\n",
    "    lines = [\n",
    "        [0, 1, 2],\n",
    "        [3, 4, 5],\n",
    "        [6, 7, 8],\n",
    "        [0, 3, 6],\n",
    "        [1, 4, 7],\n",
    "        [2, 5, 8],\n",
    "        [0, 4, 8],\n",
    "        [2, 4, 6],\n",
    "    ]\n",
    "    \n",
    "    # Return: 10 if Winner, -10 if Loser\n",
    "    for i in range(len(lines)):\n",
    "        a, b, c = lines[i]\n",
    "        if (board[a] and board[a] == board[b] and board[a] == board[c]):\n",
    "            return 10 if board[a] == player else -10\n",
    "    \n",
    "    # Return: 0 if Draw or Undecided\n",
    "    return 0"
   ]
  },
  {
   "cell_type": "markdown",
   "metadata": {},
   "source": [
    "## Check for Draw"
   ]
  },
  {
   "cell_type": "code",
   "execution_count": 4,
   "metadata": {},
   "outputs": [],
   "source": [
    "def hasMoves(board):\n",
    "    for i in range(9):\n",
    "        if (board[i] is None):\n",
    "            return True\n",
    "    return False"
   ]
  },
  {
   "cell_type": "markdown",
   "metadata": {},
   "source": [
    "## Minimax"
   ]
  },
  {
   "cell_type": "code",
   "execution_count": 15,
   "metadata": {},
   "outputs": [],
   "source": [
    "def minimax(board, depth, isMax):\n",
    "    score = evaluate(board)\n",
    "    \n",
    "    # Base Case: Win/Lose Evaluation\n",
    "    if (score == 10 or score == -10):\n",
    "        return score\n",
    "    \n",
    "    # Base Case: Draw Evaluation\n",
    "    if(hasMoves(board) == False):\n",
    "        return 0\n",
    "    \n",
    "    # Recurrence: isMax\n",
    "    if(isMax):\n",
    "        best = -1000\n",
    "        for i in range(len(board)):\n",
    "            if(board[i] is None):\n",
    "                board[i] = opponent\n",
    "                best = max(best, minimax(board, depth+1, not isMax))\n",
    "                board[i] = None\n",
    "        return best\n",
    "    \n",
    "    # Recurrence: not isMax\n",
    "    else:\n",
    "        best = 1000\n",
    "        for i in range(9):\n",
    "            if(board[i] is None):\n",
    "                board[i] = opponent\n",
    "                best = min(best, minimax(board, depth+1, not isMax))\n",
    "                board[i] = None\n",
    "        return best"
   ]
  },
  {
   "cell_type": "markdown",
   "metadata": {},
   "source": [
    "## Find Best Move"
   ]
  },
  {
   "cell_type": "code",
   "execution_count": 6,
   "metadata": {},
   "outputs": [],
   "source": [
    "def findBest(board) :\n",
    "    bestVal = -1000\n",
    "    bestMove = -1\n",
    "    \n",
    "    for i in range(len(board)):\n",
    "        if (board[i] is None):\n",
    "            board[i] = player\n",
    "            moveVal = minimax(board, 0, False)\n",
    "            board[i] = None\n",
    "            if (moveVal > bestVal):\n",
    "                bestMove = i\n",
    "                bestVal = moveVal\n",
    "    return (bestMove, bestVal)"
   ]
  },
  {
   "cell_type": "markdown",
   "metadata": {},
   "source": [
    "## Test"
   ]
  },
  {
   "cell_type": "code",
   "execution_count": 14,
   "metadata": {},
   "outputs": [
    {
     "name": "stdout",
     "output_type": "stream",
     "text": [
      "Best Move: 3 | Best Value: -10\n"
     ]
    }
   ],
   "source": [
    "bestMove, bestVal = findBest([\n",
    "    'X', 'X', 'O',\n",
    "    None, 'O', None,\n",
    "    None, None, None\n",
    "])\n",
    "print('Best Move: {} | Best Value: {}'.format(bestMove, bestVal))"
   ]
  }
 ],
 "metadata": {
  "kernelspec": {
   "display_name": "Python 3.9.1 64-bit ('anaconda3': virtualenv)",
   "language": "python",
   "name": "python39164bitanaconda3virtualenv6f3838206694463c9fb7be3177c382ae"
  },
  "language_info": {
   "codemirror_mode": {
    "name": "ipython",
    "version": 3
   },
   "file_extension": ".py",
   "mimetype": "text/x-python",
   "name": "python",
   "nbconvert_exporter": "python",
   "pygments_lexer": "ipython3",
   "version": "3.9.7"
  }
 },
 "nbformat": 4,
 "nbformat_minor": 4
}
